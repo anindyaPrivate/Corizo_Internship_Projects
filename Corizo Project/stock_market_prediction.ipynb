{
 "cells": [
  {
   "cell_type": "code",
   "execution_count": 1,
   "id": "8b192204",
   "metadata": {},
   "outputs": [],
   "source": [
    "import numpy as np\n",
    "import pandas as pd\n",
    "import matplotlib.pyplot as plt \n",
    "%matplotlib inline\n",
    "from datetime import datetime \n",
    "import seaborn as sns\n"
   ]
  },
  {
   "cell_type": "code",
   "execution_count": 2,
   "id": "015753ec",
   "metadata": {},
   "outputs": [],
   "source": [
    "dataset = pd.read_excel('1767133-1729258-1613615-Stock_Price_data_set_(1).xlsx')"
   ]
  },
  {
   "cell_type": "code",
   "execution_count": 3,
   "id": "d11abbaf",
   "metadata": {},
   "outputs": [
    {
     "data": {
      "text/html": [
       "<div>\n",
       "<style scoped>\n",
       "    .dataframe tbody tr th:only-of-type {\n",
       "        vertical-align: middle;\n",
       "    }\n",
       "\n",
       "    .dataframe tbody tr th {\n",
       "        vertical-align: top;\n",
       "    }\n",
       "\n",
       "    .dataframe thead th {\n",
       "        text-align: right;\n",
       "    }\n",
       "</style>\n",
       "<table border=\"1\" class=\"dataframe\">\n",
       "  <thead>\n",
       "    <tr style=\"text-align: right;\">\n",
       "      <th></th>\n",
       "      <th>Date</th>\n",
       "      <th>Open</th>\n",
       "      <th>High</th>\n",
       "      <th>Low</th>\n",
       "      <th>Close</th>\n",
       "      <th>Adj Close</th>\n",
       "      <th>Volume</th>\n",
       "    </tr>\n",
       "  </thead>\n",
       "  <tbody>\n",
       "    <tr>\n",
       "      <th>0</th>\n",
       "      <td>2018-02-05</td>\n",
       "      <td>262.000000</td>\n",
       "      <td>267.899994</td>\n",
       "      <td>250.029999</td>\n",
       "      <td>254.259995</td>\n",
       "      <td>254.259995</td>\n",
       "      <td>11896100</td>\n",
       "    </tr>\n",
       "    <tr>\n",
       "      <th>1</th>\n",
       "      <td>2018-02-06</td>\n",
       "      <td>247.699997</td>\n",
       "      <td>266.700012</td>\n",
       "      <td>245.000000</td>\n",
       "      <td>265.720001</td>\n",
       "      <td>265.720001</td>\n",
       "      <td>12595800</td>\n",
       "    </tr>\n",
       "    <tr>\n",
       "      <th>2</th>\n",
       "      <td>2018-02-07</td>\n",
       "      <td>266.579987</td>\n",
       "      <td>272.450012</td>\n",
       "      <td>264.329987</td>\n",
       "      <td>264.559998</td>\n",
       "      <td>264.559998</td>\n",
       "      <td>8981500</td>\n",
       "    </tr>\n",
       "    <tr>\n",
       "      <th>3</th>\n",
       "      <td>2018-02-08</td>\n",
       "      <td>267.079987</td>\n",
       "      <td>267.619995</td>\n",
       "      <td>250.000000</td>\n",
       "      <td>250.100006</td>\n",
       "      <td>250.100006</td>\n",
       "      <td>9306700</td>\n",
       "    </tr>\n",
       "    <tr>\n",
       "      <th>4</th>\n",
       "      <td>2018-02-09</td>\n",
       "      <td>253.850006</td>\n",
       "      <td>255.800003</td>\n",
       "      <td>236.110001</td>\n",
       "      <td>249.470001</td>\n",
       "      <td>249.470001</td>\n",
       "      <td>16906900</td>\n",
       "    </tr>\n",
       "    <tr>\n",
       "      <th>...</th>\n",
       "      <td>...</td>\n",
       "      <td>...</td>\n",
       "      <td>...</td>\n",
       "      <td>...</td>\n",
       "      <td>...</td>\n",
       "      <td>...</td>\n",
       "      <td>...</td>\n",
       "    </tr>\n",
       "    <tr>\n",
       "      <th>1004</th>\n",
       "      <td>2022-01-31</td>\n",
       "      <td>401.970001</td>\n",
       "      <td>427.700012</td>\n",
       "      <td>398.200012</td>\n",
       "      <td>427.140015</td>\n",
       "      <td>427.140015</td>\n",
       "      <td>20047500</td>\n",
       "    </tr>\n",
       "    <tr>\n",
       "      <th>1005</th>\n",
       "      <td>2022-02-01</td>\n",
       "      <td>432.959991</td>\n",
       "      <td>458.480011</td>\n",
       "      <td>425.540009</td>\n",
       "      <td>457.130005</td>\n",
       "      <td>457.130005</td>\n",
       "      <td>22542300</td>\n",
       "    </tr>\n",
       "    <tr>\n",
       "      <th>1006</th>\n",
       "      <td>2022-02-02</td>\n",
       "      <td>448.250000</td>\n",
       "      <td>451.980011</td>\n",
       "      <td>426.480011</td>\n",
       "      <td>429.480011</td>\n",
       "      <td>429.480011</td>\n",
       "      <td>14346000</td>\n",
       "    </tr>\n",
       "    <tr>\n",
       "      <th>1007</th>\n",
       "      <td>2022-02-03</td>\n",
       "      <td>421.440002</td>\n",
       "      <td>429.260010</td>\n",
       "      <td>404.279999</td>\n",
       "      <td>405.600006</td>\n",
       "      <td>405.600006</td>\n",
       "      <td>9905200</td>\n",
       "    </tr>\n",
       "    <tr>\n",
       "      <th>1008</th>\n",
       "      <td>2022-02-04</td>\n",
       "      <td>407.309998</td>\n",
       "      <td>412.769989</td>\n",
       "      <td>396.640015</td>\n",
       "      <td>410.170013</td>\n",
       "      <td>410.170013</td>\n",
       "      <td>7782400</td>\n",
       "    </tr>\n",
       "  </tbody>\n",
       "</table>\n",
       "<p>1009 rows × 7 columns</p>\n",
       "</div>"
      ],
      "text/plain": [
       "           Date        Open        High         Low       Close   Adj Close  \\\n",
       "0    2018-02-05  262.000000  267.899994  250.029999  254.259995  254.259995   \n",
       "1    2018-02-06  247.699997  266.700012  245.000000  265.720001  265.720001   \n",
       "2    2018-02-07  266.579987  272.450012  264.329987  264.559998  264.559998   \n",
       "3    2018-02-08  267.079987  267.619995  250.000000  250.100006  250.100006   \n",
       "4    2018-02-09  253.850006  255.800003  236.110001  249.470001  249.470001   \n",
       "...         ...         ...         ...         ...         ...         ...   \n",
       "1004 2022-01-31  401.970001  427.700012  398.200012  427.140015  427.140015   \n",
       "1005 2022-02-01  432.959991  458.480011  425.540009  457.130005  457.130005   \n",
       "1006 2022-02-02  448.250000  451.980011  426.480011  429.480011  429.480011   \n",
       "1007 2022-02-03  421.440002  429.260010  404.279999  405.600006  405.600006   \n",
       "1008 2022-02-04  407.309998  412.769989  396.640015  410.170013  410.170013   \n",
       "\n",
       "        Volume  \n",
       "0     11896100  \n",
       "1     12595800  \n",
       "2      8981500  \n",
       "3      9306700  \n",
       "4     16906900  \n",
       "...        ...  \n",
       "1004  20047500  \n",
       "1005  22542300  \n",
       "1006  14346000  \n",
       "1007   9905200  \n",
       "1008   7782400  \n",
       "\n",
       "[1009 rows x 7 columns]"
      ]
     },
     "execution_count": 3,
     "metadata": {},
     "output_type": "execute_result"
    }
   ],
   "source": [
    "dataset"
   ]
  },
  {
   "cell_type": "code",
   "execution_count": 4,
   "id": "3415062c",
   "metadata": {},
   "outputs": [
    {
     "data": {
      "text/html": [
       "<div>\n",
       "<style scoped>\n",
       "    .dataframe tbody tr th:only-of-type {\n",
       "        vertical-align: middle;\n",
       "    }\n",
       "\n",
       "    .dataframe tbody tr th {\n",
       "        vertical-align: top;\n",
       "    }\n",
       "\n",
       "    .dataframe thead th {\n",
       "        text-align: right;\n",
       "    }\n",
       "</style>\n",
       "<table border=\"1\" class=\"dataframe\">\n",
       "  <thead>\n",
       "    <tr style=\"text-align: right;\">\n",
       "      <th></th>\n",
       "      <th>Date</th>\n",
       "      <th>Open</th>\n",
       "      <th>High</th>\n",
       "      <th>Low</th>\n",
       "      <th>Close</th>\n",
       "      <th>Adj Close</th>\n",
       "      <th>Volume</th>\n",
       "    </tr>\n",
       "  </thead>\n",
       "  <tbody>\n",
       "    <tr>\n",
       "      <th>0</th>\n",
       "      <td>2018-02-05</td>\n",
       "      <td>262.000000</td>\n",
       "      <td>267.899994</td>\n",
       "      <td>250.029999</td>\n",
       "      <td>254.259995</td>\n",
       "      <td>254.259995</td>\n",
       "      <td>11896100</td>\n",
       "    </tr>\n",
       "    <tr>\n",
       "      <th>1</th>\n",
       "      <td>2018-02-06</td>\n",
       "      <td>247.699997</td>\n",
       "      <td>266.700012</td>\n",
       "      <td>245.000000</td>\n",
       "      <td>265.720001</td>\n",
       "      <td>265.720001</td>\n",
       "      <td>12595800</td>\n",
       "    </tr>\n",
       "    <tr>\n",
       "      <th>2</th>\n",
       "      <td>2018-02-07</td>\n",
       "      <td>266.579987</td>\n",
       "      <td>272.450012</td>\n",
       "      <td>264.329987</td>\n",
       "      <td>264.559998</td>\n",
       "      <td>264.559998</td>\n",
       "      <td>8981500</td>\n",
       "    </tr>\n",
       "    <tr>\n",
       "      <th>3</th>\n",
       "      <td>2018-02-08</td>\n",
       "      <td>267.079987</td>\n",
       "      <td>267.619995</td>\n",
       "      <td>250.000000</td>\n",
       "      <td>250.100006</td>\n",
       "      <td>250.100006</td>\n",
       "      <td>9306700</td>\n",
       "    </tr>\n",
       "    <tr>\n",
       "      <th>4</th>\n",
       "      <td>2018-02-09</td>\n",
       "      <td>253.850006</td>\n",
       "      <td>255.800003</td>\n",
       "      <td>236.110001</td>\n",
       "      <td>249.470001</td>\n",
       "      <td>249.470001</td>\n",
       "      <td>16906900</td>\n",
       "    </tr>\n",
       "  </tbody>\n",
       "</table>\n",
       "</div>"
      ],
      "text/plain": [
       "        Date        Open        High         Low       Close   Adj Close  \\\n",
       "0 2018-02-05  262.000000  267.899994  250.029999  254.259995  254.259995   \n",
       "1 2018-02-06  247.699997  266.700012  245.000000  265.720001  265.720001   \n",
       "2 2018-02-07  266.579987  272.450012  264.329987  264.559998  264.559998   \n",
       "3 2018-02-08  267.079987  267.619995  250.000000  250.100006  250.100006   \n",
       "4 2018-02-09  253.850006  255.800003  236.110001  249.470001  249.470001   \n",
       "\n",
       "     Volume  \n",
       "0  11896100  \n",
       "1  12595800  \n",
       "2   8981500  \n",
       "3   9306700  \n",
       "4  16906900  "
      ]
     },
     "execution_count": 4,
     "metadata": {},
     "output_type": "execute_result"
    }
   ],
   "source": [
    "dataset.head()"
   ]
  },
  {
   "cell_type": "code",
   "execution_count": 5,
   "id": "6980a88f",
   "metadata": {},
   "outputs": [
    {
     "data": {
      "text/plain": [
       "Index(['Date', 'Open', 'High', 'Low', 'Close', 'Adj Close', 'Volume'], dtype='object')"
      ]
     },
     "execution_count": 5,
     "metadata": {},
     "output_type": "execute_result"
    }
   ],
   "source": [
    "dataset.columns"
   ]
  },
  {
   "cell_type": "code",
   "execution_count": 6,
   "id": "c6a54eb0",
   "metadata": {},
   "outputs": [],
   "source": [
    "dataset['Date'] = pd.to_datetime(dataset.Date)"
   ]
  },
  {
   "cell_type": "code",
   "execution_count": 7,
   "id": "77bf507d",
   "metadata": {},
   "outputs": [
    {
     "data": {
      "text/plain": [
       "(1009, 7)"
      ]
     },
     "execution_count": 7,
     "metadata": {},
     "output_type": "execute_result"
    }
   ],
   "source": [
    "dataset.shape"
   ]
  },
  {
   "cell_type": "code",
   "execution_count": 8,
   "id": "fee76715",
   "metadata": {},
   "outputs": [],
   "source": [
    "dataset.drop('Adj Close',axis = 1,inplace = True)"
   ]
  },
  {
   "cell_type": "code",
   "execution_count": 9,
   "id": "cfb6394a",
   "metadata": {},
   "outputs": [
    {
     "data": {
      "text/html": [
       "<div>\n",
       "<style scoped>\n",
       "    .dataframe tbody tr th:only-of-type {\n",
       "        vertical-align: middle;\n",
       "    }\n",
       "\n",
       "    .dataframe tbody tr th {\n",
       "        vertical-align: top;\n",
       "    }\n",
       "\n",
       "    .dataframe thead th {\n",
       "        text-align: right;\n",
       "    }\n",
       "</style>\n",
       "<table border=\"1\" class=\"dataframe\">\n",
       "  <thead>\n",
       "    <tr style=\"text-align: right;\">\n",
       "      <th></th>\n",
       "      <th>Date</th>\n",
       "      <th>Open</th>\n",
       "      <th>High</th>\n",
       "      <th>Low</th>\n",
       "      <th>Close</th>\n",
       "      <th>Volume</th>\n",
       "    </tr>\n",
       "  </thead>\n",
       "  <tbody>\n",
       "    <tr>\n",
       "      <th>0</th>\n",
       "      <td>2018-02-05</td>\n",
       "      <td>262.000000</td>\n",
       "      <td>267.899994</td>\n",
       "      <td>250.029999</td>\n",
       "      <td>254.259995</td>\n",
       "      <td>11896100</td>\n",
       "    </tr>\n",
       "    <tr>\n",
       "      <th>1</th>\n",
       "      <td>2018-02-06</td>\n",
       "      <td>247.699997</td>\n",
       "      <td>266.700012</td>\n",
       "      <td>245.000000</td>\n",
       "      <td>265.720001</td>\n",
       "      <td>12595800</td>\n",
       "    </tr>\n",
       "    <tr>\n",
       "      <th>2</th>\n",
       "      <td>2018-02-07</td>\n",
       "      <td>266.579987</td>\n",
       "      <td>272.450012</td>\n",
       "      <td>264.329987</td>\n",
       "      <td>264.559998</td>\n",
       "      <td>8981500</td>\n",
       "    </tr>\n",
       "    <tr>\n",
       "      <th>3</th>\n",
       "      <td>2018-02-08</td>\n",
       "      <td>267.079987</td>\n",
       "      <td>267.619995</td>\n",
       "      <td>250.000000</td>\n",
       "      <td>250.100006</td>\n",
       "      <td>9306700</td>\n",
       "    </tr>\n",
       "    <tr>\n",
       "      <th>4</th>\n",
       "      <td>2018-02-09</td>\n",
       "      <td>253.850006</td>\n",
       "      <td>255.800003</td>\n",
       "      <td>236.110001</td>\n",
       "      <td>249.470001</td>\n",
       "      <td>16906900</td>\n",
       "    </tr>\n",
       "    <tr>\n",
       "      <th>...</th>\n",
       "      <td>...</td>\n",
       "      <td>...</td>\n",
       "      <td>...</td>\n",
       "      <td>...</td>\n",
       "      <td>...</td>\n",
       "      <td>...</td>\n",
       "    </tr>\n",
       "    <tr>\n",
       "      <th>1004</th>\n",
       "      <td>2022-01-31</td>\n",
       "      <td>401.970001</td>\n",
       "      <td>427.700012</td>\n",
       "      <td>398.200012</td>\n",
       "      <td>427.140015</td>\n",
       "      <td>20047500</td>\n",
       "    </tr>\n",
       "    <tr>\n",
       "      <th>1005</th>\n",
       "      <td>2022-02-01</td>\n",
       "      <td>432.959991</td>\n",
       "      <td>458.480011</td>\n",
       "      <td>425.540009</td>\n",
       "      <td>457.130005</td>\n",
       "      <td>22542300</td>\n",
       "    </tr>\n",
       "    <tr>\n",
       "      <th>1006</th>\n",
       "      <td>2022-02-02</td>\n",
       "      <td>448.250000</td>\n",
       "      <td>451.980011</td>\n",
       "      <td>426.480011</td>\n",
       "      <td>429.480011</td>\n",
       "      <td>14346000</td>\n",
       "    </tr>\n",
       "    <tr>\n",
       "      <th>1007</th>\n",
       "      <td>2022-02-03</td>\n",
       "      <td>421.440002</td>\n",
       "      <td>429.260010</td>\n",
       "      <td>404.279999</td>\n",
       "      <td>405.600006</td>\n",
       "      <td>9905200</td>\n",
       "    </tr>\n",
       "    <tr>\n",
       "      <th>1008</th>\n",
       "      <td>2022-02-04</td>\n",
       "      <td>407.309998</td>\n",
       "      <td>412.769989</td>\n",
       "      <td>396.640015</td>\n",
       "      <td>410.170013</td>\n",
       "      <td>7782400</td>\n",
       "    </tr>\n",
       "  </tbody>\n",
       "</table>\n",
       "<p>1009 rows × 6 columns</p>\n",
       "</div>"
      ],
      "text/plain": [
       "           Date        Open        High         Low       Close    Volume\n",
       "0    2018-02-05  262.000000  267.899994  250.029999  254.259995  11896100\n",
       "1    2018-02-06  247.699997  266.700012  245.000000  265.720001  12595800\n",
       "2    2018-02-07  266.579987  272.450012  264.329987  264.559998   8981500\n",
       "3    2018-02-08  267.079987  267.619995  250.000000  250.100006   9306700\n",
       "4    2018-02-09  253.850006  255.800003  236.110001  249.470001  16906900\n",
       "...         ...         ...         ...         ...         ...       ...\n",
       "1004 2022-01-31  401.970001  427.700012  398.200012  427.140015  20047500\n",
       "1005 2022-02-01  432.959991  458.480011  425.540009  457.130005  22542300\n",
       "1006 2022-02-02  448.250000  451.980011  426.480011  429.480011  14346000\n",
       "1007 2022-02-03  421.440002  429.260010  404.279999  405.600006   9905200\n",
       "1008 2022-02-04  407.309998  412.769989  396.640015  410.170013   7782400\n",
       "\n",
       "[1009 rows x 6 columns]"
      ]
     },
     "execution_count": 9,
     "metadata": {},
     "output_type": "execute_result"
    }
   ],
   "source": [
    "dataset"
   ]
  },
  {
   "cell_type": "code",
   "execution_count": 10,
   "id": "6f88b920",
   "metadata": {},
   "outputs": [
    {
     "name": "stderr",
     "output_type": "stream",
     "text": [
      "C:\\Users\\ANINDYA DAS\\AppData\\Local\\Temp\\ipykernel_25228\\2526522683.py:1: FutureWarning: Treating datetime data as categorical rather than numeric in `.describe` is deprecated and will be removed in a future version of pandas. Specify `datetime_is_numeric=True` to silence this warning and adopt the future behavior now.\n",
      "  dataset.describe(include = 'all')\n"
     ]
    },
    {
     "data": {
      "text/html": [
       "<div>\n",
       "<style scoped>\n",
       "    .dataframe tbody tr th:only-of-type {\n",
       "        vertical-align: middle;\n",
       "    }\n",
       "\n",
       "    .dataframe tbody tr th {\n",
       "        vertical-align: top;\n",
       "    }\n",
       "\n",
       "    .dataframe thead th {\n",
       "        text-align: right;\n",
       "    }\n",
       "</style>\n",
       "<table border=\"1\" class=\"dataframe\">\n",
       "  <thead>\n",
       "    <tr style=\"text-align: right;\">\n",
       "      <th></th>\n",
       "      <th>Date</th>\n",
       "      <th>Open</th>\n",
       "      <th>High</th>\n",
       "      <th>Low</th>\n",
       "      <th>Close</th>\n",
       "      <th>Volume</th>\n",
       "    </tr>\n",
       "  </thead>\n",
       "  <tbody>\n",
       "    <tr>\n",
       "      <th>count</th>\n",
       "      <td>1009</td>\n",
       "      <td>1009.000000</td>\n",
       "      <td>1009.000000</td>\n",
       "      <td>1009.000000</td>\n",
       "      <td>1009.000000</td>\n",
       "      <td>1.009000e+03</td>\n",
       "    </tr>\n",
       "    <tr>\n",
       "      <th>unique</th>\n",
       "      <td>1009</td>\n",
       "      <td>NaN</td>\n",
       "      <td>NaN</td>\n",
       "      <td>NaN</td>\n",
       "      <td>NaN</td>\n",
       "      <td>NaN</td>\n",
       "    </tr>\n",
       "    <tr>\n",
       "      <th>top</th>\n",
       "      <td>2018-02-05 00:00:00</td>\n",
       "      <td>NaN</td>\n",
       "      <td>NaN</td>\n",
       "      <td>NaN</td>\n",
       "      <td>NaN</td>\n",
       "      <td>NaN</td>\n",
       "    </tr>\n",
       "    <tr>\n",
       "      <th>freq</th>\n",
       "      <td>1</td>\n",
       "      <td>NaN</td>\n",
       "      <td>NaN</td>\n",
       "      <td>NaN</td>\n",
       "      <td>NaN</td>\n",
       "      <td>NaN</td>\n",
       "    </tr>\n",
       "    <tr>\n",
       "      <th>first</th>\n",
       "      <td>2018-02-05 00:00:00</td>\n",
       "      <td>NaN</td>\n",
       "      <td>NaN</td>\n",
       "      <td>NaN</td>\n",
       "      <td>NaN</td>\n",
       "      <td>NaN</td>\n",
       "    </tr>\n",
       "    <tr>\n",
       "      <th>last</th>\n",
       "      <td>2022-02-04 00:00:00</td>\n",
       "      <td>NaN</td>\n",
       "      <td>NaN</td>\n",
       "      <td>NaN</td>\n",
       "      <td>NaN</td>\n",
       "      <td>NaN</td>\n",
       "    </tr>\n",
       "    <tr>\n",
       "      <th>mean</th>\n",
       "      <td>NaN</td>\n",
       "      <td>419.059673</td>\n",
       "      <td>425.320703</td>\n",
       "      <td>412.374044</td>\n",
       "      <td>419.000733</td>\n",
       "      <td>7.570685e+06</td>\n",
       "    </tr>\n",
       "    <tr>\n",
       "      <th>std</th>\n",
       "      <td>NaN</td>\n",
       "      <td>108.537532</td>\n",
       "      <td>109.262960</td>\n",
       "      <td>107.555867</td>\n",
       "      <td>108.289999</td>\n",
       "      <td>5.465535e+06</td>\n",
       "    </tr>\n",
       "    <tr>\n",
       "      <th>min</th>\n",
       "      <td>NaN</td>\n",
       "      <td>233.919998</td>\n",
       "      <td>250.649994</td>\n",
       "      <td>231.229996</td>\n",
       "      <td>233.880005</td>\n",
       "      <td>1.144000e+06</td>\n",
       "    </tr>\n",
       "    <tr>\n",
       "      <th>25%</th>\n",
       "      <td>NaN</td>\n",
       "      <td>331.489990</td>\n",
       "      <td>336.299988</td>\n",
       "      <td>326.000000</td>\n",
       "      <td>331.619995</td>\n",
       "      <td>4.091900e+06</td>\n",
       "    </tr>\n",
       "    <tr>\n",
       "      <th>50%</th>\n",
       "      <td>NaN</td>\n",
       "      <td>377.769989</td>\n",
       "      <td>383.010010</td>\n",
       "      <td>370.880005</td>\n",
       "      <td>378.670013</td>\n",
       "      <td>5.934500e+06</td>\n",
       "    </tr>\n",
       "    <tr>\n",
       "      <th>75%</th>\n",
       "      <td>NaN</td>\n",
       "      <td>509.130005</td>\n",
       "      <td>515.630005</td>\n",
       "      <td>502.529999</td>\n",
       "      <td>509.079987</td>\n",
       "      <td>9.322400e+06</td>\n",
       "    </tr>\n",
       "    <tr>\n",
       "      <th>max</th>\n",
       "      <td>NaN</td>\n",
       "      <td>692.349976</td>\n",
       "      <td>700.989990</td>\n",
       "      <td>686.090027</td>\n",
       "      <td>691.690002</td>\n",
       "      <td>5.890430e+07</td>\n",
       "    </tr>\n",
       "  </tbody>\n",
       "</table>\n",
       "</div>"
      ],
      "text/plain": [
       "                       Date         Open         High          Low  \\\n",
       "count                  1009  1009.000000  1009.000000  1009.000000   \n",
       "unique                 1009          NaN          NaN          NaN   \n",
       "top     2018-02-05 00:00:00          NaN          NaN          NaN   \n",
       "freq                      1          NaN          NaN          NaN   \n",
       "first   2018-02-05 00:00:00          NaN          NaN          NaN   \n",
       "last    2022-02-04 00:00:00          NaN          NaN          NaN   \n",
       "mean                    NaN   419.059673   425.320703   412.374044   \n",
       "std                     NaN   108.537532   109.262960   107.555867   \n",
       "min                     NaN   233.919998   250.649994   231.229996   \n",
       "25%                     NaN   331.489990   336.299988   326.000000   \n",
       "50%                     NaN   377.769989   383.010010   370.880005   \n",
       "75%                     NaN   509.130005   515.630005   502.529999   \n",
       "max                     NaN   692.349976   700.989990   686.090027   \n",
       "\n",
       "              Close        Volume  \n",
       "count   1009.000000  1.009000e+03  \n",
       "unique          NaN           NaN  \n",
       "top             NaN           NaN  \n",
       "freq            NaN           NaN  \n",
       "first           NaN           NaN  \n",
       "last            NaN           NaN  \n",
       "mean     419.000733  7.570685e+06  \n",
       "std      108.289999  5.465535e+06  \n",
       "min      233.880005  1.144000e+06  \n",
       "25%      331.619995  4.091900e+06  \n",
       "50%      378.670013  5.934500e+06  \n",
       "75%      509.079987  9.322400e+06  \n",
       "max      691.690002  5.890430e+07  "
      ]
     },
     "execution_count": 10,
     "metadata": {},
     "output_type": "execute_result"
    }
   ],
   "source": [
    "dataset.describe(include = 'all')"
   ]
  },
  {
   "cell_type": "code",
   "execution_count": 11,
   "id": "a76ca75c",
   "metadata": {},
   "outputs": [
    {
     "data": {
      "text/html": [
       "<div>\n",
       "<style scoped>\n",
       "    .dataframe tbody tr th:only-of-type {\n",
       "        vertical-align: middle;\n",
       "    }\n",
       "\n",
       "    .dataframe tbody tr th {\n",
       "        vertical-align: top;\n",
       "    }\n",
       "\n",
       "    .dataframe thead th {\n",
       "        text-align: right;\n",
       "    }\n",
       "</style>\n",
       "<table border=\"1\" class=\"dataframe\">\n",
       "  <thead>\n",
       "    <tr style=\"text-align: right;\">\n",
       "      <th></th>\n",
       "      <th>Date</th>\n",
       "      <th>Open</th>\n",
       "      <th>High</th>\n",
       "      <th>Low</th>\n",
       "      <th>Close</th>\n",
       "      <th>Volume</th>\n",
       "    </tr>\n",
       "  </thead>\n",
       "  <tbody>\n",
       "    <tr>\n",
       "      <th>0</th>\n",
       "      <td>False</td>\n",
       "      <td>False</td>\n",
       "      <td>False</td>\n",
       "      <td>False</td>\n",
       "      <td>False</td>\n",
       "      <td>False</td>\n",
       "    </tr>\n",
       "    <tr>\n",
       "      <th>1</th>\n",
       "      <td>False</td>\n",
       "      <td>False</td>\n",
       "      <td>False</td>\n",
       "      <td>False</td>\n",
       "      <td>False</td>\n",
       "      <td>False</td>\n",
       "    </tr>\n",
       "    <tr>\n",
       "      <th>2</th>\n",
       "      <td>False</td>\n",
       "      <td>False</td>\n",
       "      <td>False</td>\n",
       "      <td>False</td>\n",
       "      <td>False</td>\n",
       "      <td>False</td>\n",
       "    </tr>\n",
       "    <tr>\n",
       "      <th>3</th>\n",
       "      <td>False</td>\n",
       "      <td>False</td>\n",
       "      <td>False</td>\n",
       "      <td>False</td>\n",
       "      <td>False</td>\n",
       "      <td>False</td>\n",
       "    </tr>\n",
       "    <tr>\n",
       "      <th>4</th>\n",
       "      <td>False</td>\n",
       "      <td>False</td>\n",
       "      <td>False</td>\n",
       "      <td>False</td>\n",
       "      <td>False</td>\n",
       "      <td>False</td>\n",
       "    </tr>\n",
       "    <tr>\n",
       "      <th>...</th>\n",
       "      <td>...</td>\n",
       "      <td>...</td>\n",
       "      <td>...</td>\n",
       "      <td>...</td>\n",
       "      <td>...</td>\n",
       "      <td>...</td>\n",
       "    </tr>\n",
       "    <tr>\n",
       "      <th>1004</th>\n",
       "      <td>False</td>\n",
       "      <td>False</td>\n",
       "      <td>False</td>\n",
       "      <td>False</td>\n",
       "      <td>False</td>\n",
       "      <td>False</td>\n",
       "    </tr>\n",
       "    <tr>\n",
       "      <th>1005</th>\n",
       "      <td>False</td>\n",
       "      <td>False</td>\n",
       "      <td>False</td>\n",
       "      <td>False</td>\n",
       "      <td>False</td>\n",
       "      <td>False</td>\n",
       "    </tr>\n",
       "    <tr>\n",
       "      <th>1006</th>\n",
       "      <td>False</td>\n",
       "      <td>False</td>\n",
       "      <td>False</td>\n",
       "      <td>False</td>\n",
       "      <td>False</td>\n",
       "      <td>False</td>\n",
       "    </tr>\n",
       "    <tr>\n",
       "      <th>1007</th>\n",
       "      <td>False</td>\n",
       "      <td>False</td>\n",
       "      <td>False</td>\n",
       "      <td>False</td>\n",
       "      <td>False</td>\n",
       "      <td>False</td>\n",
       "    </tr>\n",
       "    <tr>\n",
       "      <th>1008</th>\n",
       "      <td>False</td>\n",
       "      <td>False</td>\n",
       "      <td>False</td>\n",
       "      <td>False</td>\n",
       "      <td>False</td>\n",
       "      <td>False</td>\n",
       "    </tr>\n",
       "  </tbody>\n",
       "</table>\n",
       "<p>1009 rows × 6 columns</p>\n",
       "</div>"
      ],
      "text/plain": [
       "       Date   Open   High    Low  Close  Volume\n",
       "0     False  False  False  False  False   False\n",
       "1     False  False  False  False  False   False\n",
       "2     False  False  False  False  False   False\n",
       "3     False  False  False  False  False   False\n",
       "4     False  False  False  False  False   False\n",
       "...     ...    ...    ...    ...    ...     ...\n",
       "1004  False  False  False  False  False   False\n",
       "1005  False  False  False  False  False   False\n",
       "1006  False  False  False  False  False   False\n",
       "1007  False  False  False  False  False   False\n",
       "1008  False  False  False  False  False   False\n",
       "\n",
       "[1009 rows x 6 columns]"
      ]
     },
     "execution_count": 11,
     "metadata": {},
     "output_type": "execute_result"
    }
   ],
   "source": [
    "dataset.isnull()"
   ]
  },
  {
   "cell_type": "code",
   "execution_count": 12,
   "id": "b767124f",
   "metadata": {},
   "outputs": [
    {
     "data": {
      "text/plain": [
       "Date      0\n",
       "Open      0\n",
       "High      0\n",
       "Low       0\n",
       "Close     0\n",
       "Volume    0\n",
       "dtype: int64"
      ]
     },
     "execution_count": 12,
     "metadata": {},
     "output_type": "execute_result"
    }
   ],
   "source": [
    "dataset.isnull().sum()"
   ]
  },
  {
   "cell_type": "code",
   "execution_count": 13,
   "id": "eae17c86",
   "metadata": {},
   "outputs": [
    {
     "name": "stdout",
     "output_type": "stream",
     "text": [
      "<class 'pandas.core.frame.DataFrame'>\n",
      "RangeIndex: 1009 entries, 0 to 1008\n",
      "Data columns (total 6 columns):\n",
      " #   Column  Non-Null Count  Dtype         \n",
      "---  ------  --------------  -----         \n",
      " 0   Date    1009 non-null   datetime64[ns]\n",
      " 1   Open    1009 non-null   float64       \n",
      " 2   High    1009 non-null   float64       \n",
      " 3   Low     1009 non-null   float64       \n",
      " 4   Close   1009 non-null   float64       \n",
      " 5   Volume  1009 non-null   int64         \n",
      "dtypes: datetime64[ns](1), float64(4), int64(1)\n",
      "memory usage: 47.4 KB\n"
     ]
    }
   ],
   "source": [
    "dataset.info()"
   ]
  },
  {
   "cell_type": "code",
   "execution_count": 14,
   "id": "05c9ea69",
   "metadata": {
    "scrolled": false
   },
   "outputs": [
    {
     "name": "stdout",
     "output_type": "stream",
     "text": [
      "1009\n"
     ]
    }
   ],
   "source": [
    "print(len(dataset))"
   ]
  },
  {
   "cell_type": "code",
   "execution_count": 15,
   "id": "c26d7426",
   "metadata": {},
   "outputs": [
    {
     "data": {
      "text/plain": [
       "<AxesSubplot:>"
      ]
     },
     "execution_count": 15,
     "metadata": {},
     "output_type": "execute_result"
    },
    {
     "data": {
      "image/png": "[encoded data removed]",
      "text/plain": [
       "<Figure size 864x288 with 1 Axes>"
      ]
     },
     "metadata": {
      "needs_background": "light"
     },
     "output_type": "display_data"
    }
   ],
   "source": [
    "dataset['Open'].plot(figsize=(12,4))"
   ]
  },
  {
   "cell_type": "code",
   "execution_count": 16,
   "id": "1eb16504",
   "metadata": {},
   "outputs": [],
   "source": [
    "#independent features  and dependent features\n",
    "\n",
    "X = dataset[['Open','High','Low','Volume']].values\n",
    "y = dataset['Close'].values"
   ]
  },
  {
   "cell_type": "code",
   "execution_count": 17,
   "id": "90f3f01c",
   "metadata": {},
   "outputs": [
    {
     "data": {
      "text/plain": [
       "(array([[2.62000000e+02, 2.67899994e+02, 2.50029999e+02, 1.18961000e+07],\n",
       "        [2.47699997e+02, 2.66700012e+02, 2.45000000e+02, 1.25958000e+07],\n",
       "        [2.66579987e+02, 2.72450012e+02, 2.64329987e+02, 8.98150000e+06],\n",
       "        ...,\n",
       "        [4.48250000e+02, 4.51980011e+02, 4.26480011e+02, 1.43460000e+07],\n",
       "        [4.21440002e+02, 4.29260010e+02, 4.04279999e+02, 9.90520000e+06],\n",
       "        [4.07309998e+02, 4.12769989e+02, 3.96640015e+02, 7.78240000e+06]]),\n",
       " array([254.259995, 265.720001, 264.559998, ..., 429.480011, 405.600006,\n",
       "        410.170013]))"
      ]
     },
     "execution_count": 17,
     "metadata": {},
     "output_type": "execute_result"
    }
   ],
   "source": [
    "X,y"
   ]
  },
  {
   "cell_type": "code",
   "execution_count": 40,
   "id": "7fc16feb",
   "metadata": {},
   "outputs": [],
   "source": [
    "from sklearn.model_selection import train_test_split\n",
    "X_train, X_test, y_train, y_test = train_test_split(\n",
    " X, y, test_size=0.30, random_state=0)"
   ]
  },
  {
   "cell_type": "code",
   "execution_count": 41,
   "id": "1d6f0978",
   "metadata": {},
   "outputs": [
    {
     "data": {
      "text/plain": [
       "array([[3.23119995e+02, 3.36359985e+02, 3.21200012e+02, 5.66310000e+06],\n",
       "       [2.85700012e+02, 2.92649994e+02, 2.84609985e+02, 7.40590000e+06],\n",
       "       [3.80000000e+02, 3.81329987e+02, 3.69339996e+02, 7.04640000e+06],\n",
       "       ...,\n",
       "       [5.08679993e+02, 5.10100006e+02, 5.01200012e+02, 4.30820000e+06],\n",
       "       [4.25000000e+02, 4.29000000e+02, 4.20839996e+02, 6.27750000e+06],\n",
       "       [4.94690002e+02, 4.95140015e+02, 4.82000000e+02, 6.99790000e+06]])"
      ]
     },
     "execution_count": 41,
     "metadata": {},
     "output_type": "execute_result"
    }
   ],
   "source": [
    "X_train"
   ]
  },
  {
   "cell_type": "code",
   "execution_count": 42,
   "id": "c8164abb",
   "metadata": {},
   "outputs": [
    {
     "data": {
      "text/plain": [
       "array([335.829987, 288.269989, 372.279999, 359.070007, 523.26001 ,\n",
       "       286.600006, 381.890015, 499.549988, 651.450012, 639.      ,\n",
       "       323.570007, 325.220001, 573.140015, 312.279999, 590.650024,\n",
       "       359.970001, 325.220001, 336.059998, 332.670013, 559.070007,\n",
       "       556.549988, 362.660004, 365.48999 , 349.290009, 307.779999,\n",
       "       359.700012, 363.019989, 509.109985, 484.670013, 339.670013,\n",
       "       336.630005, 326.890015, 554.440002, 327.769989, 289.570007,\n",
       "       344.5     , 482.029999, 264.75    , 282.929993, 663.840027,\n",
       "       610.539978, 362.869995, 278.140015, 366.959991, 352.01001 ,\n",
       "       351.829987, 309.25    , 337.589996, 488.809998, 325.160004,\n",
       "       292.859985, 349.920013, 628.080017, 533.5     , 369.670013,\n",
       "       359.730011, 589.289978, 502.859985, 370.019989, 353.160004,\n",
       "       290.390015, 285.809998, 530.789978, 351.269989, 282.649994,\n",
       "       276.820007, 365.209991, 378.670013, 321.98999 , 429.480011,\n",
       "       349.100006, 301.779999, 582.869995, 326.399994, 354.73999 ,\n",
       "       508.890015, 659.200012, 345.26001 , 349.730011, 582.070007,\n",
       "       369.209991, 290.059998, 515.409973, 274.459991, 639.099976,\n",
       "       507.019989, 486.690002, 321.160004, 525.75    , 387.149994,\n",
       "       336.299988, 351.339996, 326.670013, 505.869995, 300.690002,\n",
       "       359.929993, 361.190002, 353.399994, 499.890015, 283.109985,\n",
       "       539.809998, 413.5     , 552.840027, 315.899994, 520.809998,\n",
       "       362.98999 , 390.399994, 371.709991, 293.119995, 429.320007,\n",
       "       512.400024, 291.440002, 419.730011, 525.690002, 285.529999,\n",
       "       282.880005, 355.709991, 381.429993, 351.390015, 317.380005,\n",
       "       492.309998, 488.880005, 363.519989, 379.959991, 312.48999 ,\n",
       "       516.049988, 489.429993, 350.350006, 477.579987, 447.670013,\n",
       "       563.590027, 343.089996, 329.600006, 556.52002 , 319.959991,\n",
       "       253.669998, 357.320007, 369.429993, 311.690002, 386.      ,\n",
       "       530.719971, 346.709991, 480.630005, 267.619995, 395.420013,\n",
       "       628.289978, 490.649994, 271.200012, 355.730011, 483.380005,\n",
       "       386.700012, 514.72998 , 366.769989, 624.940002, 266.769989,\n",
       "       294.980011, 613.150024, 286.279999, 370.540009, 520.25    ,\n",
       "       553.330017, 290.609985, 342.880005, 335.660004, 360.089996,\n",
       "       258.269989, 490.100006, 490.700012, 291.519989, 553.409973,\n",
       "       535.97998 , 599.059998, 398.390015, 377.339996, 422.959991,\n",
       "       547.950012, 286.130005, 360.350006, 332.700012, 392.869995,\n",
       "       381.720001, 668.52002 , 306.160004, 317.      , 319.5     ,\n",
       "       517.349976, 286.809998, 262.799988, 497.980011, 682.609985,\n",
       "       494.660004, 372.779999, 370.720001, 486.23999 , 266.630005,\n",
       "       541.450012, 348.519989, 506.519989, 315.440002, 366.600006,\n",
       "       527.51001 , 318.829987, 482.679993, 284.839996, 510.399994,\n",
       "       294.149994, 303.470001, 435.549988, 287.98999 , 493.160004,\n",
       "       487.350006, 288.029999, 337.48999 , 321.100006, 293.350006,\n",
       "       438.269989, 593.73999 , 544.530029, 494.730011, 411.089996,\n",
       "       449.869995, 347.73999 , 331.619995, 379.929993, 542.950012,\n",
       "       254.259995, 291.029999, 332.630005, 487.269989, 369.029999,\n",
       "       415.630005, 497.519989, 593.26001 , 233.880005, 354.390015,\n",
       "       398.179993, 533.780029, 333.200012, 269.700012, 316.779999,\n",
       "       328.899994, 614.090027, 534.450012, 484.480011, 525.5     ,\n",
       "       315.100006, 503.839996, 321.549988, 529.559998, 268.029999,\n",
       "       440.519989, 428.149994, 250.100006, 322.440002, 380.549988,\n",
       "       515.840027, 617.77002 , 488.769989, 604.919983, 554.580017,\n",
       "       255.570007, 487.700012, 326.459991, 488.23999 , 345.559998,\n",
       "       272.790009, 499.23999 , 665.640015, 310.480011, 326.26001 ,\n",
       "       548.219971, 373.25    , 354.640015, 379.480011, 519.119995,\n",
       "       315.470001, 436.25    , 350.920013, 356.869995, 556.780029,\n",
       "       682.02002 , 338.019989, 266.      , 369.01001 , 494.73999 ,\n",
       "       476.619995, 533.97998 , 291.559998, 658.289978, 375.429993,\n",
       "       368.149994, 434.26001 , 364.079987, 357.119995, 547.580017,\n",
       "       475.470001, 502.359985, 313.980011, 294.339996, 441.950012,\n",
       "       336.899994, 298.5     , 476.26001 , 531.789978, 366.950012,\n",
       "       547.530029, 480.670013, 674.049988, 359.459991, 541.940002,\n",
       "       503.059998, 431.820007, 380.709991, 360.869995, 313.299988,\n",
       "       501.670013, 681.169983, 338.619995, 539.419983, 295.029999,\n",
       "       485.      , 291.450012, 415.269989, 528.909973, 566.179993,\n",
       "       270.940002, 489.049988, 414.329987, 377.869995, 360.299988,\n",
       "       484.119995, 249.470001, 509.      , 307.350006, 524.440002,\n",
       "       504.209991, 515.919983, 379.23999 , 454.190002, 552.780029,\n",
       "       690.309998, 332.829987, 589.349976, 361.209991, 366.230011,\n",
       "       315.480011, 284.25    , 375.220001, 355.209991, 425.5     ,\n",
       "       539.849976, 285.929993, 590.530029, 315.549988, 427.309998,\n",
       "       616.469971, 369.609985, 591.150024, 525.419983, 522.419983,\n",
       "       513.469971, 294.070007, 310.839996, 509.640015, 357.320007,\n",
       "       633.799988, 374.130005, 418.970001, 291.380005, 451.040009,\n",
       "       625.140015, 493.600006, 370.959991, 349.190002, 329.809998,\n",
       "       343.160004, 517.570007, 294.290009, 561.929993, 404.980011,\n",
       "       271.5     , 365.799988, 611.659973, 523.109985, 495.98999 ,\n",
       "       263.079987, 491.170013, 567.52002 , 614.23999 , 522.859985,\n",
       "       610.340027, 508.25    , 354.450012, 421.420013, 379.929993,\n",
       "       326.130005, 380.070007, 381.399994, 343.429993, 260.579987,\n",
       "       671.659973, 363.600006, 366.959991, 313.480011, 364.230011,\n",
       "       380.01001 , 496.079987, 610.710022, 346.399994, 363.649994,\n",
       "       371.040009, 307.630005, 546.700012, 515.150024, 535.960022,\n",
       "       518.059998, 309.100006, 327.730011, 292.01001 , 606.049988,\n",
       "       347.570007, 518.909973, 367.720001, 657.580017, 558.919983,\n",
       "       320.269989, 526.27002 , 300.940002, 363.829987, 298.070007,\n",
       "       339.730011, 311.690002, 641.900024, 286.209991, 275.299988,\n",
       "       539.039978, 296.779999, 530.869995, 367.649994, 331.820007,\n",
       "       291.769989, 371.119995, 414.769989, 375.5     , 646.909973,\n",
       "       492.390015, 605.039978, 470.609985, 266.839996, 357.119995,\n",
       "       427.140015, 488.51001 , 500.029999, 501.339996, 270.720001,\n",
       "       513.76001 , 344.440002, 265.140015, 492.98999 , 612.090027,\n",
       "       613.119995, 516.48999 , 514.47998 , 591.059998, 479.100006,\n",
       "       527.330017, 632.659973, 512.659973, 324.660004, 550.640015,\n",
       "       326.459991, 321.299988, 310.829987, 276.019989, 500.48999 ,\n",
       "       349.359985, 362.200012, 400.480011, 377.140015, 634.809998,\n",
       "       288.75    , 287.410004, 439.170013, 358.859985, 528.210022,\n",
       "       425.559998, 508.899994, 505.549988, 346.48999 , 354.609985,\n",
       "       304.209991, 352.209991, 334.959991, 384.359985, 373.690002,\n",
       "       267.660004, 534.659973, 447.769989, 294.179993, 357.320007,\n",
       "       302.5     , 315.880005, 395.799988, 348.679993, 369.950012,\n",
       "       315.25    , 470.5     , 480.450012, 304.320007, 468.040009,\n",
       "       339.170013, 523.280029, 361.920013, 533.539978, 348.109985,\n",
       "       597.539978, 339.5     , 302.570007, 265.920013, 493.809998,\n",
       "       315.      , 355.059998, 363.920013, 351.040009, 256.079987,\n",
       "       416.76001 , 368.700012, 500.769989, 482.350006, 358.779999,\n",
       "       353.369995, 434.049988, 662.919983, 291.570007, 299.829987,\n",
       "       332.700012, 510.820007, 597.369995, 356.269989, 549.570007,\n",
       "       688.289978, 301.829987, 306.700012, 351.600006, 374.850006,\n",
       "       538.849976, 281.040009, 289.929993, 360.570007, 504.540009,\n",
       "       285.769989, 541.059998, 312.459991, 293.970001, 524.030029,\n",
       "       254.589996, 419.850006, 290.299988, 346.459991, 494.25    ,\n",
       "       436.130005, 338.380005, 520.799988, 452.579987, 399.390015,\n",
       "       310.100006, 345.869995, 486.769989, 331.440002, 514.25    ,\n",
       "       433.829987, 335.779999, 386.190002, 299.109985, 266.980011,\n",
       "       317.940002, 437.48999 , 507.76001 , 298.98999 , 530.76001 ,\n",
       "       503.179993, 367.880005, 475.73999 , 524.890015, 359.970001,\n",
       "       476.890015, 286.730011, 415.440002, 604.559998, 679.330017,\n",
       "       351.350006, 413.440002, 374.230011, 403.829987, 527.070007,\n",
       "       322.98999 , 503.220001, 513.950012, 267.660004, 469.959991,\n",
       "       368.040009, 492.410004, 329.540009, 532.280029, 341.309998,\n",
       "       654.059998, 311.649994, 511.290009, 354.269989, 258.820007,\n",
       "       367.450012, 466.929993, 577.76001 , 424.679993, 548.72998 ,\n",
       "       293.25    , 550.119995, 391.980011, 361.809998, 278.049988,\n",
       "       523.059998, 363.089996, 513.630005, 369.75    , 311.76001 ,\n",
       "       359.309998, 351.769989, 517.919983, 678.799988, 288.589996,\n",
       "       288.850006, 502.410004, 297.809998, 357.130005, 349.600006,\n",
       "       550.789978, 338.690002, 413.549988, 588.549988, 318.690002,\n",
       "       637.969971, 668.400024, 347.609985, 540.02002 , 318.450012,\n",
       "       312.869995, 520.549988, 309.98999 , 380.399994, 539.440002,\n",
       "       355.929993, 338.049988, 498.309998, 370.079987, 361.76001 ,\n",
       "       484.529999, 480.23999 , 364.970001, 356.559998, 280.480011,\n",
       "       586.5     , 341.179993, 470.200012, 546.98999 , 586.72998 ,\n",
       "       364.700012, 390.390015, 508.820007, 289.619995, 266.690002,\n",
       "       498.339996, 491.359985, 552.159973, 361.049988, 592.390015,\n",
       "       506.440002, 324.179993, 491.899994, 342.390015, 554.090027,\n",
       "       497.      , 537.219971, 339.559998, 361.450012, 426.75    ,\n",
       "       329.049988, 488.23999 , 370.459991, 289.290009, 457.850006,\n",
       "       332.220001, 328.190002, 466.26001 , 546.539978, 539.450012,\n",
       "       358.820007, 532.900024, 278.519989, 379.5     , 482.880005,\n",
       "       551.340027, 499.079987, 327.5     , 502.109985, 421.380005,\n",
       "       485.230011])"
      ]
     },
     "execution_count": 42,
     "metadata": {},
     "output_type": "execute_result"
    }
   ],
   "source": [
    "y_train"
   ]
  },
  {
   "cell_type": "code",
   "execution_count": 43,
   "id": "427dd769",
   "metadata": {},
   "outputs": [],
   "source": [
    "from sklearn.linear_model import LinearRegression\n",
    "from sklearn.metrics import confusion_matrix,accuracy_score\n",
    "regressor  = LinearRegression()"
   ]
  },
  {
   "cell_type": "code",
   "execution_count": 44,
   "id": "23b79896",
   "metadata": {},
   "outputs": [
    {
     "data": {
      "text/html": [
       "<style>#sk-container-id-2 {color: black;background-color: white;}#sk-container-id-2 pre{padding: 0;}#sk-container-id-2 div.sk-toggleable {background-color: white;}#sk-container-id-2 label.sk-toggleable__label {cursor: pointer;display: block;width: 100%;margin-bottom: 0;padding: 0.3em;box-sizing: border-box;text-align: center;}#sk-container-id-2 label.sk-toggleable__label-arrow:before {content: \"▸\";float: left;margin-right: 0.25em;color: #696969;}#sk-container-id-2 label.sk-toggleable__label-arrow:hover:before {color: black;}#sk-container-id-2 div.sk-estimator:hover label.sk-toggleable__label-arrow:before {color: black;}#sk-container-id-2 div.sk-toggleable__content {max-height: 0;max-width: 0;overflow: hidden;text-align: left;background-color: #f0f8ff;}#sk-container-id-2 div.sk-toggleable__content pre {margin: 0.2em;color: black;border-radius: 0.25em;background-color: #f0f8ff;}#sk-container-id-2 input.sk-toggleable__control:checked~div.sk-toggleable__content {max-height: 200px;max-width: 100%;overflow: auto;}#sk-container-id-2 input.sk-toggleable__control:checked~label.sk-toggleable__label-arrow:before {content: \"▾\";}#sk-container-id-2 div.sk-estimator input.sk-toggleable__control:checked~label.sk-toggleable__label {background-color: #d4ebff;}#sk-container-id-2 div.sk-label input.sk-toggleable__control:checked~label.sk-toggleable__label {background-color: #d4ebff;}#sk-container-id-2 input.sk-hidden--visually {border: 0;clip: rect(1px 1px 1px 1px);clip: rect(1px, 1px, 1px, 1px);height: 1px;margin: -1px;overflow: hidden;padding: 0;position: absolute;width: 1px;}#sk-container-id-2 div.sk-estimator {font-family: monospace;background-color: #f0f8ff;border: 1px dotted black;border-radius: 0.25em;box-sizing: border-box;margin-bottom: 0.5em;}#sk-container-id-2 div.sk-estimator:hover {background-color: #d4ebff;}#sk-container-id-2 div.sk-parallel-item::after {content: \"\";width: 100%;border-bottom: 1px solid gray;flex-grow: 1;}#sk-container-id-2 div.sk-label:hover label.sk-toggleable__label {background-color: #d4ebff;}#sk-container-id-2 div.sk-serial::before {content: \"\";position: absolute;border-left: 1px solid gray;box-sizing: border-box;top: 0;bottom: 0;left: 50%;z-index: 0;}#sk-container-id-2 div.sk-serial {display: flex;flex-direction: column;align-items: center;background-color: white;padding-right: 0.2em;padding-left: 0.2em;position: relative;}#sk-container-id-2 div.sk-item {position: relative;z-index: 1;}#sk-container-id-2 div.sk-parallel {display: flex;align-items: stretch;justify-content: center;background-color: white;position: relative;}#sk-container-id-2 div.sk-item::before, #sk-container-id-2 div.sk-parallel-item::before {content: \"\";position: absolute;border-left: 1px solid gray;box-sizing: border-box;top: 0;bottom: 0;left: 50%;z-index: -1;}#sk-container-id-2 div.sk-parallel-item {display: flex;flex-direction: column;z-index: 1;position: relative;background-color: white;}#sk-container-id-2 div.sk-parallel-item:first-child::after {align-self: flex-end;width: 50%;}#sk-container-id-2 div.sk-parallel-item:last-child::after {align-self: flex-start;width: 50%;}#sk-container-id-2 div.sk-parallel-item:only-child::after {width: 0;}#sk-container-id-2 div.sk-dashed-wrapped {border: 1px dashed gray;margin: 0 0.4em 0.5em 0.4em;box-sizing: border-box;padding-bottom: 0.4em;background-color: white;}#sk-container-id-2 div.sk-label label {font-family: monospace;font-weight: bold;display: inline-block;line-height: 1.2em;}#sk-container-id-2 div.sk-label-container {text-align: center;}#sk-container-id-2 div.sk-container {/* jupyter's `normalize.less` sets `[hidden] { display: none; }` but bootstrap.min.css set `[hidden] { display: none !important; }` so we also need the `!important` here to be able to override the default hidden behavior on the sphinx rendered scikit-learn.org. See: https://github.com/scikit-learn/scikit-learn/issues/21755 */display: inline-block !important;position: relative;}#sk-container-id-2 div.sk-text-repr-fallback {display: none;}</style><div id=\"sk-container-id-2\" class=\"sk-top-container\"><div class=\"sk-text-repr-fallback\"><pre>LinearRegression()</pre><b>In a Jupyter environment, please rerun this cell to show the HTML representation or trust the notebook. <br />On GitHub, the HTML representation is unable to render, please try loading this page with nbviewer.org.</b></div><div class=\"sk-container\" hidden><div class=\"sk-item\"><div class=\"sk-estimator sk-toggleable\"><input class=\"sk-toggleable__control sk-hidden--visually\" id=\"sk-estimator-id-2\" type=\"checkbox\" checked><label for=\"sk-estimator-id-2\" class=\"sk-toggleable__label sk-toggleable__label-arrow\">LinearRegression</label><div class=\"sk-toggleable__content\"><pre>LinearRegression()</pre></div></div></div></div></div>"
      ],
      "text/plain": [
       "LinearRegression()"
      ]
     },
     "execution_count": 44,
     "metadata": {},
     "output_type": "execute_result"
    }
   ],
   "source": [
    "regressor.fit(X_train,y_train)"
   ]
  },
  {
   "cell_type": "code",
   "execution_count": 45,
   "id": "937773da",
   "metadata": {},
   "outputs": [
    {
     "name": "stdout",
     "output_type": "stream",
     "text": [
      "[-5.93728931e-01  7.46551556e-01  8.48896838e-01  9.17016598e-08]\n"
     ]
    }
   ],
   "source": [
    "print(regressor.coef_)"
   ]
  },
  {
   "cell_type": "code",
   "execution_count": 46,
   "id": "1486a49c",
   "metadata": {},
   "outputs": [
    {
     "name": "stdout",
     "output_type": "stream",
     "text": [
      "-0.6150285261347221\n"
     ]
    }
   ],
   "source": [
    "print(regressor.intercept_)"
   ]
  },
  {
   "cell_type": "code",
   "execution_count": 47,
   "id": "74c08871",
   "metadata": {},
   "outputs": [],
   "source": [
    "#prediction\n",
    "y_pred = regressor.predict(X_test)"
   ]
  },
  {
   "cell_type": "code",
   "execution_count": 48,
   "id": "9ce842e5",
   "metadata": {},
   "outputs": [
    {
     "data": {
      "text/plain": [
       "array([553.95756649, 379.67334469, 360.32005856, 283.64028839,\n",
       "       260.05441996, 434.71199023, 260.55840722, 518.57353612,\n",
       "       315.38630032, 345.46398544, 520.00870837, 319.52987011,\n",
       "       492.5632228 , 298.33572574, 509.17490619, 499.11928685,\n",
       "       290.62305497, 550.45451864, 337.98161317, 268.79035902,\n",
       "       338.84242452, 293.2472435 , 461.37187797, 361.9488469 ,\n",
       "       288.34813396, 502.59942759, 500.22309617, 295.58989444,\n",
       "       353.30327686, 368.96583995, 280.36810982, 542.12183878,\n",
       "       317.47664466, 539.20134729, 309.79002003, 519.52290783,\n",
       "       344.68040513, 367.46997234, 511.99780979, 633.1298696 ,\n",
       "       483.87765288, 298.09557407, 298.67265132, 265.54293549,\n",
       "       517.98738478, 292.57203717, 297.38844687, 381.8869727 ,\n",
       "       357.23806547, 407.99709267, 367.19339614, 601.29547896,\n",
       "       481.74479476, 514.94774048, 368.17445699, 417.98828159,\n",
       "       376.15316047, 356.75787463, 379.59113871, 357.59642882,\n",
       "       291.36425779, 500.01995171, 491.74818056, 413.72891435,\n",
       "       328.18004828, 502.57997341, 505.51771091, 352.06601455,\n",
       "       323.44984141, 341.02076502, 656.80756783, 353.02476199,\n",
       "       265.0152211 , 266.59746402, 434.94179068, 546.0027532 ,\n",
       "       351.72762071, 300.2605204 , 583.42385696, 364.33766702,\n",
       "       502.2020896 , 508.82634079, 524.60417069, 648.67967979,\n",
       "       360.07615898, 337.19163119, 391.93143725, 301.02258799,\n",
       "       357.48970787, 520.19109292, 517.00297539, 309.44745344,\n",
       "       364.26721698, 486.17250906, 292.47415857, 510.85001836,\n",
       "       363.88209192, 540.17092607, 330.72028774, 436.53427318,\n",
       "       540.91691398, 552.98992371, 309.47785952, 550.11385349,\n",
       "       447.92438215, 387.36294405, 433.74056803, 356.26858474,\n",
       "       349.39944231, 480.61012307, 330.5294331 , 331.75039521,\n",
       "       502.04241285, 361.77188263, 513.69548373, 527.46838745,\n",
       "       487.84076983, 489.01350495, 533.60029828, 385.78339845,\n",
       "       412.15577914, 525.36968898, 484.91828187, 536.87230796,\n",
       "       340.70664658, 348.22383006, 363.62805074, 529.98797091,\n",
       "       545.26338692, 620.17491085, 315.10086371, 262.90444073,\n",
       "       565.38126725, 502.45101395, 342.41047851, 512.3722847 ,\n",
       "       364.36499625, 575.18202813, 500.54717975, 489.50329262,\n",
       "       310.18778867, 278.08794444, 276.6450078 , 336.92257243,\n",
       "       485.38663446, 394.37296432, 450.45408744, 344.57801534,\n",
       "       610.88713643, 593.0894159 , 493.02979584, 352.78511429,\n",
       "       590.16844076, 306.84198842, 312.84063583, 309.12138252,\n",
       "       318.00105085, 505.82835713, 558.73601276, 636.48707634,\n",
       "       353.28917253, 607.91600144, 447.90979913, 492.59927765,\n",
       "       531.5922535 , 551.46889874, 420.02166886, 663.07344615,\n",
       "       504.13121546, 510.73472811, 695.70743406, 344.83953347,\n",
       "       370.70897624, 500.40239249, 419.44343185, 354.54367007,\n",
       "       358.84374356, 650.132284  , 372.35825203, 329.70140105,\n",
       "       557.48251115, 606.90813137, 338.63994274, 363.77775179,\n",
       "       271.72092945, 373.59694225, 524.42727729, 324.22816307,\n",
       "       492.48846539, 356.99009349, 362.21669952, 340.09178394,\n",
       "       524.10007767, 383.12353298, 367.08280684, 419.78787066,\n",
       "       582.30991937, 507.51455569, 314.30420218, 255.30896797,\n",
       "       306.77784611, 403.12743313, 541.52552272, 516.18323526,\n",
       "       489.96450943, 345.15851361, 318.12008717, 349.31703671,\n",
       "       301.03922239, 679.55164392, 368.33124657, 395.06358775,\n",
       "       375.07078147, 372.62828585, 516.37909131, 376.8032409 ,\n",
       "       524.13287852, 377.14744703, 551.69682809, 285.44508163,\n",
       "       477.36119097, 609.34102375, 391.14049054, 364.88360004,\n",
       "       366.5802021 , 285.0763385 , 502.20918376, 506.68239831,\n",
       "       367.83232243, 569.5213421 , 361.93130138, 271.8793763 ,\n",
       "       487.99871123, 500.16248869, 355.8961902 , 296.88327433,\n",
       "       495.33829229, 305.96320053, 342.23312999, 488.93344794,\n",
       "       341.70071968, 317.65597133, 351.45904997, 484.50340087,\n",
       "       322.31444258, 505.12029484, 332.12555081, 578.39282635,\n",
       "       422.7493915 , 273.39714496, 537.53625885, 375.07067465,\n",
       "       300.69479828, 507.00410903, 269.71920992, 328.31420312,\n",
       "       328.12152317, 370.85887388, 453.65150427, 624.31702592,\n",
       "       279.41269603, 685.3814469 , 506.66404877, 490.7567356 ,\n",
       "       355.90835553, 506.73231643, 481.27271741, 603.55255479,\n",
       "       332.67469886, 508.93277588, 335.74175801, 498.09087314,\n",
       "       414.93011704, 334.75928438, 378.86079604, 492.84626193,\n",
       "       314.48488906, 324.97194751, 503.75904242, 260.09496279,\n",
       "       332.4259808 , 473.59550577, 345.59509809, 331.79882218,\n",
       "       543.4630312 , 550.46637605, 284.50414367, 534.77373578,\n",
       "       296.00037896, 363.63695556, 246.99686958, 529.4417107 ,\n",
       "       283.48177795, 534.30795552, 615.69770256, 529.99453168,\n",
       "       377.79083116, 484.51475672, 545.37670099, 407.64804527,\n",
       "       283.38037483, 405.03270651, 329.82073924])"
      ]
     },
     "execution_count": 48,
     "metadata": {},
     "output_type": "execute_result"
    }
   ],
   "source": [
    "y_pred"
   ]
  },
  {
   "cell_type": "code",
   "execution_count": 49,
   "id": "a5821aa0",
   "metadata": {},
   "outputs": [
    {
     "data": {
      "text/html": [
       "<div>\n",
       "<style scoped>\n",
       "    .dataframe tbody tr th:only-of-type {\n",
       "        vertical-align: middle;\n",
       "    }\n",
       "\n",
       "    .dataframe tbody tr th {\n",
       "        vertical-align: top;\n",
       "    }\n",
       "\n",
       "    .dataframe thead th {\n",
       "        text-align: right;\n",
       "    }\n",
       "</style>\n",
       "<table border=\"1\" class=\"dataframe\">\n",
       "  <thead>\n",
       "    <tr style=\"text-align: right;\">\n",
       "      <th></th>\n",
       "      <th>Actual</th>\n",
       "      <th>Predicted</th>\n",
       "    </tr>\n",
       "  </thead>\n",
       "  <tbody>\n",
       "    <tr>\n",
       "      <th>0</th>\n",
       "      <td>553.729980</td>\n",
       "      <td>553.957566</td>\n",
       "    </tr>\n",
       "    <tr>\n",
       "      <th>1</th>\n",
       "      <td>379.059998</td>\n",
       "      <td>379.673345</td>\n",
       "    </tr>\n",
       "    <tr>\n",
       "      <th>2</th>\n",
       "      <td>361.399994</td>\n",
       "      <td>360.320059</td>\n",
       "    </tr>\n",
       "    <tr>\n",
       "      <th>3</th>\n",
       "      <td>281.859985</td>\n",
       "      <td>283.640288</td>\n",
       "    </tr>\n",
       "    <tr>\n",
       "      <th>4</th>\n",
       "      <td>261.429993</td>\n",
       "      <td>260.054420</td>\n",
       "    </tr>\n",
       "    <tr>\n",
       "      <th>5</th>\n",
       "      <td>434.480011</td>\n",
       "      <td>434.711990</td>\n",
       "    </tr>\n",
       "    <tr>\n",
       "      <th>6</th>\n",
       "      <td>265.720001</td>\n",
       "      <td>260.558407</td>\n",
       "    </tr>\n",
       "    <tr>\n",
       "      <th>7</th>\n",
       "      <td>518.020020</td>\n",
       "      <td>518.573536</td>\n",
       "    </tr>\n",
       "    <tr>\n",
       "      <th>8</th>\n",
       "      <td>315.929993</td>\n",
       "      <td>315.386300</td>\n",
       "    </tr>\n",
       "    <tr>\n",
       "      <th>9</th>\n",
       "      <td>348.869995</td>\n",
       "      <td>345.463985</td>\n",
       "    </tr>\n",
       "    <tr>\n",
       "      <th>10</th>\n",
       "      <td>519.969971</td>\n",
       "      <td>520.008708</td>\n",
       "    </tr>\n",
       "    <tr>\n",
       "      <th>11</th>\n",
       "      <td>321.089996</td>\n",
       "      <td>319.529870</td>\n",
       "    </tr>\n",
       "    <tr>\n",
       "      <th>12</th>\n",
       "      <td>489.820007</td>\n",
       "      <td>492.563223</td>\n",
       "    </tr>\n",
       "    <tr>\n",
       "      <th>13</th>\n",
       "      <td>298.929993</td>\n",
       "      <td>298.335726</td>\n",
       "    </tr>\n",
       "    <tr>\n",
       "      <th>14</th>\n",
       "      <td>510.720001</td>\n",
       "      <td>509.174906</td>\n",
       "    </tr>\n",
       "    <tr>\n",
       "      <th>15</th>\n",
       "      <td>503.380005</td>\n",
       "      <td>499.119287</td>\n",
       "    </tr>\n",
       "    <tr>\n",
       "      <th>16</th>\n",
       "      <td>288.859985</td>\n",
       "      <td>290.623055</td>\n",
       "    </tr>\n",
       "    <tr>\n",
       "      <th>17</th>\n",
       "      <td>549.219971</td>\n",
       "      <td>550.454519</td>\n",
       "    </tr>\n",
       "    <tr>\n",
       "      <th>18</th>\n",
       "      <td>337.450012</td>\n",
       "      <td>337.981613</td>\n",
       "    </tr>\n",
       "    <tr>\n",
       "      <th>19</th>\n",
       "      <td>269.579987</td>\n",
       "      <td>268.790359</td>\n",
       "    </tr>\n",
       "  </tbody>\n",
       "</table>\n",
       "</div>"
      ],
      "text/plain": [
       "        Actual   Predicted\n",
       "0   553.729980  553.957566\n",
       "1   379.059998  379.673345\n",
       "2   361.399994  360.320059\n",
       "3   281.859985  283.640288\n",
       "4   261.429993  260.054420\n",
       "5   434.480011  434.711990\n",
       "6   265.720001  260.558407\n",
       "7   518.020020  518.573536\n",
       "8   315.929993  315.386300\n",
       "9   348.869995  345.463985\n",
       "10  519.969971  520.008708\n",
       "11  321.089996  319.529870\n",
       "12  489.820007  492.563223\n",
       "13  298.929993  298.335726\n",
       "14  510.720001  509.174906\n",
       "15  503.380005  499.119287\n",
       "16  288.859985  290.623055\n",
       "17  549.219971  550.454519\n",
       "18  337.450012  337.981613\n",
       "19  269.579987  268.790359"
      ]
     },
     "execution_count": 49,
     "metadata": {},
     "output_type": "execute_result"
    }
   ],
   "source": [
    "result = pd.DataFrame({'Actual':y_test.flatten(),'Predicted':y_pred.flatten()})\n",
    "result.head(20)"
   ]
  },
  {
   "cell_type": "code",
   "execution_count": 50,
   "id": "cce894a2",
   "metadata": {},
   "outputs": [
    {
     "data": {
      "text/plain": [
       "0.9984049187546582"
      ]
     },
     "execution_count": 50,
     "metadata": {},
     "output_type": "execute_result"
    }
   ],
   "source": [
    "regressor.score(X_test,y_test)"
   ]
  },
  {
   "cell_type": "code",
   "execution_count": 51,
   "id": "f30e273c",
   "metadata": {},
   "outputs": [],
   "source": [
    "from sklearn import metrics"
   ]
  },
  {
   "cell_type": "code",
   "execution_count": 52,
   "id": "6e93a36c",
   "metadata": {},
   "outputs": [],
   "source": [
    "import math"
   ]
  },
  {
   "cell_type": "code",
   "execution_count": 53,
   "id": "5c97a33a",
   "metadata": {},
   "outputs": [],
   "source": [
    "graph = result.head(20)"
   ]
  },
  {
   "cell_type": "code",
   "execution_count": 54,
   "id": "1763e4b9",
   "metadata": {},
   "outputs": [
    {
     "data": {
      "text/plain": [
       "<AxesSubplot:>"
      ]
     },
     "execution_count": 54,
     "metadata": {},
     "output_type": "execute_result"
    },
    {
     "data": {
      "image/png": "[encoded data removed]",
      "text/plain": [
       "<Figure size 432x288 with 1 Axes>"
      ]
     },
     "metadata": {
      "needs_background": "light"
     },
     "output_type": "display_data"
    }
   ],
   "source": [
    "graph.plot(kind='bar')"
   ]
  },
  {
   "cell_type": "code",
   "execution_count": 55,
   "id": "8b51d3e1",
   "metadata": {},
   "outputs": [
    {
     "data": {
      "text/plain": [
       "<seaborn.axisgrid.FacetGrid at 0x2177e602fd0>"
      ]
     },
     "execution_count": 55,
     "metadata": {},
     "output_type": "execute_result"
    },
    {
     "data": {
      "image/png": "[encoded data removed]",
      "text/plain": [
       "<Figure size 360x360 with 1 Axes>"
      ]
     },
     "metadata": {
      "needs_background": "light"
     },
     "output_type": "display_data"
    }
   ],
   "source": [
    "sns.displot(y_pred-y_test,kind = 'kde')"
   ]
  },
  {
   "cell_type": "code",
   "execution_count": 56,
   "id": "b71c8e09",
   "metadata": {},
   "outputs": [],
   "source": [
    "from sklearn.metrics import r2_score"
   ]
  },
  {
   "cell_type": "code",
   "execution_count": 57,
   "id": "ce834f9a",
   "metadata": {},
   "outputs": [],
   "source": [
    "score = r2_score(y_pred,y_test)"
   ]
  },
  {
   "cell_type": "code",
   "execution_count": 58,
   "id": "78a18633",
   "metadata": {},
   "outputs": [
    {
     "data": {
      "text/plain": [
       "0.998405676281603"
      ]
     },
     "execution_count": 58,
     "metadata": {},
     "output_type": "execute_result"
    }
   ],
   "source": [
    "score"
   ]
  },
  {
   "cell_type": "code",
   "execution_count": null,
   "id": "79611a29",
   "metadata": {},
   "outputs": [],
   "source": []
  }
 ],
 "metadata": {
  "kernelspec": {
   "display_name": "Python 3 (ipykernel)",
   "language": "python",
   "name": "python3"
  },
  "language_info": {
   "codemirror_mode": {
    "name": "ipython",
    "version": 3
   },
   "file_extension": ".py",
   "mimetype": "text/x-python",
   "name": "python",
   "nbconvert_exporter": "python",
   "pygments_lexer": "ipython3",
   "version": "3.9.6"
  }
 },
 "nbformat": 4,
 "nbformat_minor": 5
}
